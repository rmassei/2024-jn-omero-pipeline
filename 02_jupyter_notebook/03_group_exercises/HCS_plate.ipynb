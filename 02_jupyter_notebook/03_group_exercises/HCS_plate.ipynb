{
 "cells": [
  {
   "metadata": {},
   "cell_type": "markdown",
   "source": "# Group Exercise - Scenario 2 - HCS Plate\n",
   "id": "a4ec43f2a9090497"
  },
  {
   "metadata": {},
   "cell_type": "code",
   "outputs": [],
   "execution_count": null,
   "source": "import getpass",
   "id": "4d03df3bd92df9de"
  },
  {
   "metadata": {},
   "cell_type": "code",
   "outputs": [],
   "execution_count": null,
   "source": [
    "OMEROUSER = input(f\"Enter username: \\t\")\n",
    "OMEROPASS = getpass.getpass(prompt=f\"Enter password: \\t\")\n",
    "\n",
    "OMEROHOST = \"localhost\"\n",
    "OMEROPORT = \"4064\""
   ],
   "id": "e45f9db0f5dcd2ab"
  },
  {
   "metadata": {},
   "cell_type": "markdown",
   "source": "### 1 - Connect to OMERO\n",
   "id": "eb002dc3a94479e9"
  },
  {
   "metadata": {},
   "cell_type": "markdown",
   "source": [
    "### 2 - Find the plate with the images (only one plate in the server)\n",
    "Place are structured differently from dataset. Play a bit around and try to understand how does it works."
   ],
   "id": "5623aa43780ccaa4"
  },
  {
   "metadata": {},
   "cell_type": "markdown",
   "source": [
    "### 3 - Find a way to loop trough each well of the plate\n",
    "Not easy, be creative! Check this JN from another workshop: https://github.com/MuensterImagingNetwork/TiM23_WS44_HTPImageAnalysis_Omero/tree/main"
   ],
   "id": "b841dc98da162643"
  },
  {
   "metadata": {},
   "cell_type": "markdown",
   "source": [
    "### 4 - Import the results in a new dataset\n",
    "Push the data back using ezoimport!"
   ],
   "id": "ef0adfe195c2ba9f"
  },
  {
   "metadata": {},
   "cell_type": "markdown",
   "source": "",
   "id": "57fac87d56a1b8d2"
  }
 ],
 "metadata": {
  "kernelspec": {
   "display_name": "Python 3",
   "language": "python",
   "name": "python3"
  },
  "language_info": {
   "codemirror_mode": {
    "name": "ipython",
    "version": 2
   },
   "file_extension": ".py",
   "mimetype": "text/x-python",
   "name": "python",
   "nbconvert_exporter": "python",
   "pygments_lexer": "ipython2",
   "version": "2.7.6"
  }
 },
 "nbformat": 4,
 "nbformat_minor": 5
}
