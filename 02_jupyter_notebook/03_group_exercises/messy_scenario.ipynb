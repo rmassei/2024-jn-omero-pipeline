{
 "cells": [
  {
   "metadata": {},
   "cell_type": "markdown",
   "source": "# Group Exercise - Scenario 3 - A messy experiment",
   "id": "a9feba5be1eece16"
  },
  {
   "metadata": {},
   "cell_type": "code",
   "outputs": [],
   "execution_count": null,
   "source": "import getpass",
   "id": "6a6e178b63c1c82d"
  },
  {
   "metadata": {},
   "cell_type": "code",
   "outputs": [],
   "execution_count": null,
   "source": [
    "OMEROUSER = input(f\"Enter username: \\t\")\n",
    "OMEROPASS = getpass.getpass(prompt=f\"Enter password: \\t\")\n",
    "\n",
    "OMEROHOST = \"localhost\"\n",
    "OMEROPORT = \"4064\""
   ],
   "id": "e7ccec96f313a951"
  },
  {
   "metadata": {},
   "cell_type": "markdown",
   "source": "### 1 - Connect to OMERO",
   "id": "106e103ddf586929"
  },
  {
   "metadata": {},
   "cell_type": "markdown",
   "source": [
    "### 2 - Find a way to filter the images with different analysis\n",
    "... maybe one of the filter option in ezomero?\n"
   ],
   "id": "e52c473fa8905716"
  },
  {
   "metadata": {},
   "cell_type": "markdown",
   "source": [
    "### 3 - Run two diffent analysis for each one\n",
    "Something easy...!"
   ],
   "id": "999b58e52cb0e2ee"
  },
  {
   "metadata": {},
   "cell_type": "markdown",
   "source": [
    "### Push them back with associated \n",
    "Push the data back using ezoimport!\n"
   ],
   "id": "fa64aa0f736a69a6"
  },
  {
   "metadata": {},
   "cell_type": "markdown",
   "source": "",
   "id": "7ba2191118047a55"
  }
 ],
 "metadata": {
  "kernelspec": {
   "display_name": "Python 3",
   "language": "python",
   "name": "python3"
  },
  "language_info": {
   "codemirror_mode": {
    "name": "ipython",
    "version": 2
   },
   "file_extension": ".py",
   "mimetype": "text/x-python",
   "name": "python",
   "nbconvert_exporter": "python",
   "pygments_lexer": "ipython2",
   "version": "2.7.6"
  }
 },
 "nbformat": 4,
 "nbformat_minor": 5
}
