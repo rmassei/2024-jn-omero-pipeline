{
 "cells": [
  {
   "metadata": {},
   "cell_type": "markdown",
   "source": "# Group Exercise - Scenario 1 - DastMorning\n",
   "id": "eb8900d729d1a9e5"
  },
  {
   "metadata": {},
   "cell_type": "code",
   "outputs": [],
   "execution_count": null,
   "source": "import getpass",
   "id": "de5ee15eaa4f72da"
  },
  {
   "metadata": {},
   "cell_type": "code",
   "outputs": [],
   "execution_count": null,
   "source": [
    "OMEROUSER = input(f\"Enter username: \\t\")\n",
    "OMEROPASS = getpass.getpass(prompt = f\"Enter password: \\t\")\n",
    "\n",
    "OMEROHOST = \"localhost\"\n",
    "OMEROPORT = \"4064\""
   ],
   "id": "ca23849756a0ac22"
  },
  {
   "metadata": {},
   "cell_type": "markdown",
   "source": "### 1 - Connect to OMERO",
   "id": "9bb8273f406d7c34"
  },
  {
   "metadata": {},
   "cell_type": "markdown",
   "source": [
    "### 2 - Import images into a new dataset with KP value associated\n",
    "Here you definetly need ezomero.ezimport. Some arguments can help to associate KP values and create a dataset...\n"
   ],
   "id": "b1cc536921860ee0"
  },
  {
   "metadata": {},
   "cell_type": "markdown",
   "source": [
    "### 3 - Add a description to the dataset\n",
    "Still ezomero, find the correct function :)\n"
   ],
   "id": "2b324bd51b53f8a2"
  },
  {
   "metadata": {},
   "cell_type": "markdown",
   "source": [
    "### 4 - Add tags to A06 and H11\n",
    "Check on the package omero-py how to annotate something with a tag!"
   ],
   "id": "8108c3d7e8adf4eb"
  },
  {
   "metadata": {},
   "cell_type": "markdown",
   "source": [
    "### 5 - By using the tags call the images for analysis\n",
    "... maybe one of the filter option in ezomero?"
   ],
   "id": "e3233980b3a5ae17"
  },
  {
   "metadata": {},
   "cell_type": "markdown",
   "source": [
    "### 6 - Run a really simple analysis\n",
    "Run just a gaussian blurring or a background removal, nothing complicated..."
   ],
   "id": "cd240e6a7e374294"
  },
  {
   "metadata": {},
   "cell_type": "markdown",
   "source": [
    "### 7 - Push them back with new annotation\n",
    "Push the data back using ezoimport!"
   ],
   "id": "3be6b72aff39f5f4"
  }
 ],
 "metadata": {
  "kernelspec": {
   "display_name": "Python 3",
   "language": "python",
   "name": "python3"
  },
  "language_info": {
   "codemirror_mode": {
    "name": "ipython",
    "version": 2
   },
   "file_extension": ".py",
   "mimetype": "text/x-python",
   "name": "python",
   "nbconvert_exporter": "python",
   "pygments_lexer": "ipython2",
   "version": "2.7.6"
  }
 },
 "nbformat": 4,
 "nbformat_minor": 5
}
