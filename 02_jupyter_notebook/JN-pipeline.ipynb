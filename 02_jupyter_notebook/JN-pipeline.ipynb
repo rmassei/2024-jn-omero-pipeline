{
 "cells": [
  {
   "cell_type": "markdown",
   "id": "f5d4f838f7c498b",
   "metadata": {},
   "source": "# JN-pipeline - Cell Nuclei Segmentation"
  },
  {
   "metadata": {},
   "cell_type": "markdown",
   "source": "The present JN shows an automatic pipeline to fetch data from OMERO, perform several processing steps and push back the results OMERO adding potential metadata and Region of Interest (ROIs).",
   "id": "d4a63d6d53187b4d"
  },
  {
   "cell_type": "markdown",
   "id": "d2bbc05fa11069c4",
   "metadata": {},
   "source": "## Import Packages"
  },
  {
   "cell_type": "code",
   "id": "cbdd4921d0c88a36",
   "metadata": {},
   "source": [
    "import getpass\n",
    "\n",
    "import ezomero\n",
    "import pandas as pd\n",
    "import omero\n",
    "import tifffile\n",
    "import numpy as np\n",
    "\n",
    "from skimage import filters, morphology, measure\n",
    "from skimage.filters import gaussian\n",
    "from skimage.color import label2rgb\n",
    "from matplotlib import pyplot as plt\n",
    "from microfilm.microplot import microshow"
   ],
   "outputs": [],
   "execution_count": null
  },
  {
   "metadata": {},
   "cell_type": "markdown",
   "source": "",
   "id": "4b8b60ed764e162c"
  },
  {
   "cell_type": "markdown",
   "id": "845d4b97b9323dfe",
   "metadata": {},
   "source": "## Set Parameters to login into OMERO"
  },
  {
   "metadata": {},
   "cell_type": "markdown",
   "source": "Add here your username or password. Adjust the OMERO host and port accordingly.",
   "id": "b09a8102fd848e68"
  },
  {
   "cell_type": "code",
   "id": "5f1fe906849d9397",
   "metadata": {},
   "source": [
    "OMEROUSER = input(f\"Enter username: \\t\")\n",
    "OMEROPASS = getpass.getpass(prompt = f\"Enter password: \\t\")\n",
    "\n",
    "OMEROHOST = \"localhost\"\n",
    "OMEROPORT = \"4064\""
   ],
   "outputs": [],
   "execution_count": null
  },
  {
   "cell_type": "markdown",
   "id": "ed7d877bfebc5f56",
   "metadata": {},
   "source": "## Connect to OMERO"
  },
  {
   "cell_type": "code",
   "id": "8655167d752b4f8c",
   "metadata": {},
   "source": [
    "# Connection Check:\n",
    "conn=ezomero.connect(OMEROUSER, OMEROPASS, \"\", host=OMEROHOST, port=OMEROPORT, secure=True)\n",
    "\n",
    "## Information about the connection and its status\n",
    "print(conn.isConnected())\n",
    "user = conn.getUser()\n",
    "print(\"Current user:\")\n",
    "print(\"   ID:\", user.getId())\n",
    "print(\"   Username:\", user.getName())\n",
    "print(\"   Full Name:\", user.getFullName())"
   ],
   "outputs": [],
   "execution_count": null
  },
  {
   "cell_type": "markdown",
   "id": "9a76f68e0a307fd0",
   "metadata": {},
   "source": "## Browse your OMERO project folder"
  },
  {
   "cell_type": "markdown",
   "id": "47b567d74114607c",
   "metadata": {},
   "source": "Browse your project and have an overview on the project and their content"
  },
  {
   "cell_type": "code",
   "id": "7838a9325b81280c",
   "metadata": {},
   "source": [
    "my_exp_id = conn.getUser().getId()\n",
    "default_group_id = conn.getEventContext().groupId\n",
    "## Here a max of 5 project will be listed\n",
    "for project in conn.getObjects(\"Project\", opts={'owner': my_exp_id,\n",
    "                                            'group': default_group_id,\n",
    "                                            'order_by': 'lower(obj.name)',\n",
    "                                            'limit': 5, 'offset': 0}):\n",
    "    print(project)\n",
    "    for dataset in project.listChildren():\n",
    "        print(dataset, 2)\n",
    "        for image in dataset.listChildren():\n",
    "            print(image, 4)"
   ],
   "outputs": [],
   "execution_count": null
  },
  {
   "cell_type": "markdown",
   "id": "1c65803fa06f9644",
   "metadata": {},
   "source": "### Select your image"
  },
  {
   "cell_type": "code",
   "id": "101d168ab794e106",
   "metadata": {},
   "source": "img = conn.getObject(\"Image\", 51)",
   "outputs": [],
   "execution_count": null
  },
  {
   "metadata": {},
   "cell_type": "markdown",
   "source": "### Get information about your image",
   "id": "33fa83bf9a44ccea"
  },
  {
   "metadata": {},
   "cell_type": "code",
   "source": [
    "pixels = img.getPrimaryPixels()\n",
    "print(img.getName(), img.getDescription())\n",
    "# Retrieve information about an image.\n",
    "print (\" X:\", img.getSizeX())\n",
    "print (\" Y:\", img.getSizeY())\n",
    "print (\" Z:\", img.getSizeZ())\n",
    "print (\" C:\", img.getSizeC())\n",
    "print (\" T:\", img.getSizeT())\n",
    "# List Channels (loads the Rendering settings to get channel colors)\n",
    "for channel in img.getChannels():\n",
    "    print ('Channel:', channel.getLabel(),)\n",
    "    print ('Color:', channel.getColor().getRGB())\n",
    "    print ('Lookup table:', channel.getLut())\n"
   ],
   "id": "fd05a16b271829a4",
   "outputs": [],
   "execution_count": null
  },
  {
   "metadata": {},
   "cell_type": "markdown",
   "source": "## Plot your images",
   "id": "9ed6be82687a61e4"
  },
  {
   "cell_type": "code",
   "id": "ef1fb7ad3b774d2d",
   "metadata": {},
   "source": [
    "## get nuclei (channel 0) and cytoplasm (channel 1)\n",
    "nuclei = pixels.getPlane(0, 0, 0) \n",
    "cyto = pixels.getPlane(0, 1, 0) \n",
    "\n",
    "## recreate the original image\n",
    "multi_channel_image = np.dstack((nuclei, cyto))\n",
    "original_image = multi_channel_image.transpose((2, 0, 1))\n",
    "\n",
    "fig, axs = plt.subplots(1,3, figsize=(10,10))\n",
    "microshow(original_image, ax=axs[0], label_text= f'{img.getName()}', label_font_size=10, label_color='white')\n",
    "microshow(nuclei, ax=axs[1], label_text=f'{img.getName()} - Nuclei', label_font_size=10, label_color='white')\n",
    "microshow(cyto, ax=axs[2], label_text=f'{img.getName()} - Cytoplasm', label_font_size=10, label_color='white')"
   ],
   "outputs": [],
   "execution_count": null
  },
  {
   "cell_type": "markdown",
   "id": "8c9811578b2e3f51",
   "metadata": {},
   "source": "## Image Processing 1 - Denoising"
  },
  {
   "metadata": {},
   "cell_type": "markdown",
   "source": "Remove background",
   "id": "f2181e3fee8a1a54"
  },
  {
   "metadata": {},
   "cell_type": "code",
   "source": [
    "background_nuclei = gaussian(nuclei, sigma=100, preserve_range=True)\n",
    "denoised_nuclei = nuclei - background_nuclei\n",
    "fig, axs = plt.subplots(1, 2, figsize=(10,10))\n",
    "\n",
    "microshow(nuclei, ax=axs[0], label_text='Nuclei - Original', label_color='white')\n",
    "microshow(denoised_nuclei, ax=axs[1], label_text='Nuclei - Processed', label_color='white')"
   ],
   "id": "be8925b5be670e38",
   "outputs": [],
   "execution_count": null
  },
  {
   "metadata": {},
   "cell_type": "markdown",
   "source": "Apply a gaussian filter to denoise",
   "id": "311aacf10ff90d5b"
  },
  {
   "cell_type": "code",
   "id": "50998bbe30902e16",
   "metadata": {},
   "source": [
    "nuclei_gaussian = filters.gaussian(denoised_nuclei, sigma=2)\n",
    "\n",
    "fig, axs = plt.subplots(1,2, figsize=(10,10))\n",
    "microshow(nuclei, ax=axs[0], label_text='Nuclei - Original', label_color='white')\n",
    "microshow(nuclei_gaussian, ax=axs[1], label_text='Nuclei - Processed', label_color='white')"
   ],
   "outputs": [],
   "execution_count": null
  },
  {
   "cell_type": "markdown",
   "id": "1da9d1bc920e8e6",
   "metadata": {},
   "source": "## Image Processing 2 - Binarization and Labelling"
  },
  {
   "metadata": {},
   "cell_type": "markdown",
   "source": "Apply a OTSU threshold and create the labelling",
   "id": "f6a603103f9f73f4"
  },
  {
   "metadata": {},
   "cell_type": "code",
   "source": [
    "# create a square with width and height = 3\n",
    "square = morphology.square(5) \n",
    "square\n",
    "\n",
    "threshold = filters.threshold_otsu(nuclei_gaussian)\n",
    "binary_image = nuclei_gaussian >= threshold\n",
    "opened = morphology.binary_opening(binary_image, square)\n",
    "labeled_blobs = measure.label(opened)\n",
    "cleaned = morphology.remove_small_objects(labeled_blobs, min_size=50)\n",
    "\n",
    "fig, axs = plt.subplots(1,3, figsize=(10,10))\n",
    "\n",
    "microshow(nuclei_gaussian, ax=axs[0], label_text='Original', label_color='white')\n",
    "microshow(opened, ax=axs[1], label_text='Binary', label_color='white')\n",
    "microshow(cleaned, ax=axs[2], label_text='Labels', label_color='white')"
   ],
   "id": "20b95672714aa665",
   "outputs": [],
   "execution_count": null
  },
  {
   "metadata": {},
   "cell_type": "markdown",
   "source": "Overlay the labels and save the image",
   "id": "422aad74746ae795"
  },
  {
   "metadata": {},
   "cell_type": "code",
   "source": [
    "image_label_overlay = label2rgb(cleaned, image=nuclei, bg_label=0)\n",
    "\n",
    "fig, ax = plt.subplots(figsize=(10, 6))\n",
    "ax.imshow(image_label_overlay)\n",
    "\n",
    "tifffile.imwrite('01_data/test.tif', image_label_overlay, \n",
    "                 dtype=image_label_overlay.dtype, \n",
    "                 shape=image_label_overlay.shape)"
   ],
   "id": "dfc79d43dc9a6122",
   "outputs": [],
   "execution_count": null
  },
  {
   "metadata": {},
   "cell_type": "markdown",
   "source": "### Statistic and extract the table with features",
   "id": "dd3a7801280e9121"
  },
  {
   "metadata": {},
   "cell_type": "code",
   "source": [
    "properties = measure.regionprops(cleaned, intensity_image=nuclei)\n",
    "statistics = {\n",
    "    'area':       [p.area               for p in properties],\n",
    "    'mean':       [p.mean_intensity     for p in properties],\n",
    "    'major_axis': [p.major_axis_length  for p in properties],\n",
    "    'minor_axis': [p.minor_axis_length for p in properties]\n",
    "}\n",
    "df = pd.DataFrame(statistics)\n",
    "df"
   ],
   "id": "311a9cb1804d1fc0",
   "outputs": [],
   "execution_count": null
  },
  {
   "metadata": {},
   "cell_type": "code",
   "source": "df.to_csv(\"feature_extraction.csv\")",
   "id": "a63fa31b601655a3",
   "outputs": [],
   "execution_count": null
  },
  {
   "cell_type": "markdown",
   "id": "76a9d7acc966f11f",
   "metadata": {},
   "source": "## Push back the results to OMERO and add metadata plus other information"
  },
  {
   "metadata": {},
   "cell_type": "code",
   "source": [
    "## Create a new dataset\n",
    "did = ezomero.post_dataset(conn, \"Processed\", project_id=1)\n",
    "## push the image with REMBI annotation for analyzed data\n",
    "ezomero.ezimport(conn, '01_data/test.tif', dataset= did, ann= {\"Analysis Result Type\" : \"Processed\", \n",
    "                                                               \"Data Used for The Analysis\": f\"{img.getName()}\",\n",
    "                                                                \"Analysis method and details\" : \"Skimage\"}, \n",
    "                                                                ns = \"REMBI_Analyzed\")"
   ],
   "id": "4750c9877cf57397",
   "outputs": [],
   "execution_count": null
  },
  {
   "metadata": {},
   "cell_type": "markdown",
   "source": "### Add description and table with the results",
   "id": "1a43bab851a39ae3"
  },
  {
   "metadata": {},
   "cell_type": "code",
   "source": [
    "ezomero.put_description(conn, 'Image', 1, \"This Image Was Created\")\n",
    "ezomero.post_table(conn, df, \"Image\", 1, title='Features Results', headers=True)"
   ],
   "id": "e4eaf87206b51403",
   "outputs": [],
   "execution_count": null
  },
  {
   "metadata": {},
   "cell_type": "markdown",
   "source": "### Close Connection",
   "id": "a15056771f3a0bae"
  },
  {
   "metadata": {},
   "cell_type": "code",
   "source": "conn.clone()",
   "id": "390299e2a511a7c5",
   "outputs": [],
   "execution_count": null
  },
  {
   "metadata": {},
   "cell_type": "markdown",
   "source": "## OPTIONAL - Add masks as ROIs",
   "id": "fe3c5eb1d5989e8b"
  },
  {
   "metadata": {},
   "cell_type": "markdown",
   "source": "Add the labelling directly as ROIs in OMERO",
   "id": "f5fb891447172841"
  },
  {
   "metadata": {},
   "cell_type": "code",
   "source": "import omero_rois",
   "id": "7f69ca314faf89a",
   "outputs": [],
   "execution_count": null
  },
  {
   "metadata": {},
   "cell_type": "code",
   "source": [
    "updateService = conn.getUpdateService()\n",
    "\n",
    "def create_roi(img, shapes):\n",
    "    roi = omero.model.RoiI()\n",
    "    roi.setImage(img._obj)\n",
    "    for shape in shapes:\n",
    "        roi.addShape(shape)\n",
    "    updateService.saveObject(roi)\n",
    "\n",
    "mask = omero_rois.mask_from_binary_image(opened, rgba=(255, 0, 0, 50), z=0, c=0, t=0,\n",
    "                                                     text=f\"Channel\", raise_on_no_mask=False)\n",
    "create_roi(img, [mask])"
   ],
   "id": "4afa964f31f06343",
   "outputs": [],
   "execution_count": null
  },
  {
   "metadata": {},
   "cell_type": "markdown",
   "source": "# Looping trough many images",
   "id": "950b54bf0f0c0e89"
  },
  {
   "metadata": {},
   "cell_type": "code",
   "source": [
    "dataset = conn.getObject(\"Dataset\", 1)\n",
    "\n",
    "ID =[]\n",
    "\n",
    "for images in dataset.listChildren():\n",
    "    ID.append(images.getId())\n",
    "\n",
    "print(ID)\n",
    "\n",
    "for id in ID:\n",
    "    img = conn.getObject(\"Image\", id)\n",
    "    ### repeat the pipeline ###"
   ],
   "id": "67c96c34f3b497fa",
   "outputs": [],
   "execution_count": null
  }
 ],
 "metadata": {
  "kernelspec": {
   "display_name": "Python 3 (ipykernel)",
   "language": "python",
   "name": "python3"
  },
  "language_info": {
   "codemirror_mode": {
    "name": "ipython",
    "version": 3
   },
   "file_extension": ".py",
   "mimetype": "text/x-python",
   "name": "python",
   "nbconvert_exporter": "python",
   "pygments_lexer": "ipython3",
   "version": "3.8.19"
  }
 },
 "nbformat": 4,
 "nbformat_minor": 5
}
