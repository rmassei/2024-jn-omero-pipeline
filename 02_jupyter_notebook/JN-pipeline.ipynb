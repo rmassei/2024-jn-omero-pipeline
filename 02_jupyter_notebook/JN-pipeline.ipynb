{
 "cells": [
  {
   "cell_type": "markdown",
   "id": "f5d4f838f7c498b",
   "metadata": {},
   "source": "# JN-pipeline - Cell Nuclei Segmentation"
  },
  {
   "metadata": {},
   "cell_type": "markdown",
   "source": "The present JN shows an automatic pipeline to fetch data from OMERO, perform several processing steps and push back the results OMERO adding potential metadata and Region of Interest (ROIs).",
   "id": "d4a63d6d53187b4d"
  },
  {
   "cell_type": "markdown",
   "id": "d2bbc05fa11069c4",
   "metadata": {},
   "source": "## 1) Import Packages"
  },
  {
   "cell_type": "code",
   "id": "cbdd4921d0c88a36",
   "metadata": {},
   "source": [
    "import getpass\n",
    "\n",
    "import ezomero\n",
    "import pandas as pd\n",
    "import tifffile\n",
    "import numpy as np\n",
    "\n",
    "from skimage import filters, morphology, measure\n",
    "from skimage.filters import gaussian\n",
    "from skimage.color import label2rgb\n",
    "from matplotlib import pyplot as plt\n",
    "from microfilm.microplot import microshow"
   ],
   "outputs": [],
   "execution_count": null
  },
  {
   "metadata": {},
   "cell_type": "markdown",
   "source": "",
   "id": "4b8b60ed764e162c"
  },
  {
   "cell_type": "markdown",
   "id": "845d4b97b9323dfe",
   "metadata": {},
   "source": "## 2) Set Parameters to login into OMERO"
  },
  {
   "metadata": {},
   "cell_type": "markdown",
   "source": "Add here your username or password. Adjust the OMERO host and port accordingly.",
   "id": "b09a8102fd848e68"
  },
  {
   "cell_type": "code",
   "id": "5f1fe906849d9397",
   "metadata": {},
   "source": [
    "OMEROUSER = input(f\"Enter username: \\t\")\n",
    "OMEROPASS = getpass.getpass(prompt = f\"Enter password: \\t\")\n",
    "\n",
    "OMEROHOST = \"localhost\"\n",
    "OMEROPORT = \"4064\""
   ],
   "outputs": [],
   "execution_count": null
  },
  {
   "cell_type": "markdown",
   "id": "ed7d877bfebc5f56",
   "metadata": {},
   "source": "## 3) Connect to OMERO"
  },
  {
   "cell_type": "code",
   "id": "8655167d752b4f8c",
   "metadata": {},
   "source": "",
   "outputs": [],
   "execution_count": null
  },
  {
   "cell_type": "markdown",
   "id": "9a76f68e0a307fd0",
   "metadata": {},
   "source": "## 4) Browse your OMERO project folder"
  },
  {
   "cell_type": "markdown",
   "id": "47b567d74114607c",
   "metadata": {},
   "source": "Browse your project and have an overview on the project and their content"
  },
  {
   "cell_type": "code",
   "id": "94c30a1385878885",
   "metadata": {},
   "source": "",
   "outputs": [],
   "execution_count": null
  },
  {
   "cell_type": "markdown",
   "id": "1c65803fa06f9644",
   "metadata": {},
   "source": "### 4.1) Select your image"
  },
  {
   "cell_type": "code",
   "id": "101d168ab794e106",
   "metadata": {},
   "source": "",
   "outputs": [],
   "execution_count": null
  },
  {
   "metadata": {},
   "cell_type": "markdown",
   "source": "### 4.2) Get information about your image",
   "id": "33fa83bf9a44ccea"
  },
  {
   "metadata": {},
   "cell_type": "code",
   "source": "",
   "id": "fd05a16b271829a4",
   "outputs": [],
   "execution_count": null
  },
  {
   "metadata": {},
   "cell_type": "markdown",
   "source": "### 4.3) Plot your images",
   "id": "9ed6be82687a61e4"
  },
  {
   "cell_type": "code",
   "id": "ef1fb7ad3b774d2d",
   "metadata": {},
   "source": "",
   "outputs": [],
   "execution_count": null
  },
  {
   "cell_type": "markdown",
   "id": "8c9811578b2e3f51",
   "metadata": {},
   "source": "## 5) Image Processing 1 - Denoising"
  },
  {
   "metadata": {},
   "cell_type": "markdown",
   "source": "Remove background",
   "id": "f2181e3fee8a1a54"
  },
  {
   "metadata": {},
   "cell_type": "code",
   "source": "",
   "id": "be8925b5be670e38",
   "outputs": [],
   "execution_count": null
  },
  {
   "metadata": {},
   "cell_type": "markdown",
   "source": "Apply a gaussian filter to denoise",
   "id": "311aacf10ff90d5b"
  },
  {
   "cell_type": "code",
   "id": "50998bbe30902e16",
   "metadata": {},
   "source": "",
   "outputs": [],
   "execution_count": null
  },
  {
   "cell_type": "markdown",
   "id": "1da9d1bc920e8e6",
   "metadata": {},
   "source": "## 6) Image Processing 2 - Binarization and Labelling"
  },
  {
   "metadata": {},
   "cell_type": "markdown",
   "source": "Apply a OTSU threshold and create the labelling",
   "id": "f6a603103f9f73f4"
  },
  {
   "metadata": {},
   "cell_type": "code",
   "source": "",
   "id": "20b95672714aa665",
   "outputs": [],
   "execution_count": null
  },
  {
   "metadata": {},
   "cell_type": "markdown",
   "source": "Overlay the labels and save the image",
   "id": "422aad74746ae795"
  },
  {
   "metadata": {},
   "cell_type": "code",
   "source": "",
   "id": "dfc79d43dc9a6122",
   "outputs": [],
   "execution_count": null
  },
  {
   "metadata": {},
   "cell_type": "markdown",
   "source": "## 7) Statistic and extract the table with features",
   "id": "dd3a7801280e9121"
  },
  {
   "metadata": {},
   "cell_type": "code",
   "source": "",
   "id": "311a9cb1804d1fc0",
   "outputs": [],
   "execution_count": null
  },
  {
   "cell_type": "markdown",
   "id": "76a9d7acc966f11f",
   "metadata": {},
   "source": "## 8) Push back the results to OMERO and add metadata plus other information"
  },
  {
   "metadata": {},
   "cell_type": "code",
   "source": "",
   "id": "4750c9877cf57397",
   "outputs": [],
   "execution_count": null
  },
  {
   "metadata": {},
   "cell_type": "markdown",
   "source": "### 8.1) Add description and table with the results",
   "id": "1a43bab851a39ae3"
  },
  {
   "metadata": {},
   "cell_type": "code",
   "source": "",
   "id": "e4eaf87206b51403",
   "outputs": [],
   "execution_count": null
  },
  {
   "metadata": {},
   "cell_type": "markdown",
   "source": "## 9) Close Connection",
   "id": "a15056771f3a0bae"
  },
  {
   "metadata": {},
   "cell_type": "code",
   "source": "",
   "id": "390299e2a511a7c5",
   "outputs": [],
   "execution_count": null
  },
  {
   "metadata": {},
   "cell_type": "markdown",
   "source": "## 10) OPTIONAL - Add masks as ROIs",
   "id": "fe3c5eb1d5989e8b"
  },
  {
   "metadata": {},
   "cell_type": "markdown",
   "source": "Add the labelling directly as ROIs in OMERO",
   "id": "f5fb891447172841"
  },
  {
   "metadata": {},
   "cell_type": "code",
   "source": "import omero_rois",
   "id": "7f69ca314faf89a",
   "outputs": [],
   "execution_count": null
  },
  {
   "metadata": {},
   "cell_type": "code",
   "source": [
    "updateService = conn.getUpdateService()\n",
    "\n",
    "def create_roi(img, shapes):\n",
    "    roi = omero.model.RoiI()\n",
    "    roi.setImage(img._obj)\n",
    "    for shape in shapes:\n",
    "        roi.addShape(shape)\n",
    "    updateService.saveObject(roi)\n",
    "\n",
    "mask = omero_rois.mask_from_binary_image(opened, rgba=(255, 0, 0, 50), z=0, c=0, t=0,\n",
    "                                                     text=\"Labelling Masks\", raise_on_no_mask=False)\n",
    "create_roi(img, [mask])"
   ],
   "id": "4afa964f31f06343",
   "outputs": [],
   "execution_count": null
  },
  {
   "metadata": {},
   "cell_type": "markdown",
   "source": "# Automatize the pipeline trought a dataset on OMERO",
   "id": "950b54bf0f0c0e89"
  },
  {
   "metadata": {},
   "cell_type": "code",
   "source": "",
   "id": "67c96c34f3b497fa",
   "outputs": [],
   "execution_count": null
  }
 ],
 "metadata": {
  "kernelspec": {
   "display_name": "Python 3 (ipykernel)",
   "language": "python",
   "name": "python3"
  },
  "language_info": {
   "codemirror_mode": {
    "name": "ipython",
    "version": 3
   },
   "file_extension": ".py",
   "mimetype": "text/x-python",
   "name": "python",
   "nbconvert_exporter": "python",
   "pygments_lexer": "ipython3",
   "version": "3.8.19"
  }
 },
 "nbformat": 4,
 "nbformat_minor": 5
}
