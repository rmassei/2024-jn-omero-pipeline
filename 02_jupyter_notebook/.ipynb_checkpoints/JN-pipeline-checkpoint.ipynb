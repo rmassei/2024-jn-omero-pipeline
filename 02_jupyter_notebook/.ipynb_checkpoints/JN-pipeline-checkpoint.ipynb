{
 "cells": [
  {
   "metadata": {},
   "cell_type": "markdown",
   "source": "# JN-pipeline - Cell segmentation",
   "id": "f5d4f838f7c498b"
  },
  {
   "metadata": {},
   "cell_type": "markdown",
   "source": "## Import packages",
   "id": "d2bbc05fa11069c4"
  },
  {
   "metadata": {
    "ExecuteTime": {
     "end_time": "2024-04-19T20:01:21.160014Z",
     "start_time": "2024-04-19T20:01:18.933991Z"
    }
   },
   "cell_type": "code",
   "source": [
    "import getpass\n",
    "\n",
    "import ezomero\n",
    "from skimage.io import imread, imshow\n",
    "from skimage import filters\n",
    "from matplotlib import pyplot as plt\n",
    "from microfilm.microplot import microshow"
   ],
   "id": "cbdd4921d0c88a36",
   "execution_count": 1,
   "outputs": []
  },
  {
   "metadata": {},
   "cell_type": "markdown",
   "source": "## Set Parameters",
   "id": "845d4b97b9323dfe"
  },
  {
   "metadata": {},
   "cell_type": "code",
   "execution_count": null,
   "source": [
    "OMEROUSER = input(f\"Enter username: \\t\")\n",
    "OMEROPASS = getpass.getpass(prompt = f\"Enter password: \\t\")\n",
    "\n",
    "OMEROHOST = \"\"\n",
    "OMEROPORT = \"\"\n",
    "OMEROWEB = \"\""
   ],
   "id": "5f1fe906849d9397",
   "outputs": []
  },
  {
   "metadata": {},
   "cell_type": "markdown",
   "source": "## Connect to OMERO",
   "id": "ed7d877bfebc5f56"
  },
  {
   "metadata": {},
   "cell_type": "code",
   "execution_count": null,
   "source": [
    "# Connection Check:\n",
    "conn=ezomero.connect(OMEROUSER, OMEROPASS, \"\", host=OMEROHOST, port=OMEROPORT, secure=True)\n",
    "\n",
    "print(conn.isConnected())\n",
    "user = conn.getUser()\n",
    "print(\"Current user:\")\n",
    "print(\"   ID:\", user.getId())\n",
    "print(\"   Username:\", user.getName())\n",
    "print(\"   Full Name:\", user.getFullName())"
   ],
   "id": "8655167d752b4f8c",
   "outputs": []
  },
  {
   "metadata": {},
   "cell_type": "markdown",
   "source": "## Get your Image from OMERO",
   "id": "9a76f68e0a307fd0"
  },
  {
   "metadata": {},
   "cell_type": "markdown",
   "source": "## Browse your dataset",
   "id": "47b567d74114607c"
  },
  {
   "metadata": {},
   "cell_type": "code",
   "execution_count": null,
   "source": [
    "# Load first 5 Projects, filtering by default group and owner\n",
    "my_exp_id = conn.getUser().getId()\n",
    "default_group_id = conn.getEventContext().groupId\n",
    "for project in conn.getObjects(\"Project\", opts={'owner': my_exp_id,\n",
    "                                            'group': default_group_id,\n",
    "                                            'order_by': 'lower(obj.name)',\n",
    "                                            'limit': 5, 'offset': 0}):\n",
    "    print_obj(project)\n",
    "    # We can get Datasets with listChildren, since we have the Project already.\n",
    "    # Or conn.getObjects(\"Dataset\", opts={'project', id}) if we have Project ID\n",
    "    for dataset in project.listChildren():\n",
    "        print_obj(dataset, 2)\n",
    "        for image in dataset.listChildren():\n",
    "            print_obj(image, 4)"
   ],
   "id": "7838a9325b81280c",
   "outputs": []
  },
  {
   "metadata": {},
   "cell_type": "markdown",
   "source": "## Select your image",
   "id": "1c65803fa06f9644"
  },
  {
   "metadata": {},
   "cell_type": "code",
   "execution_count": null,
   "source": "img = conn.getObject(\"Image\", image_id)",
   "id": "101d168ab794e106",
   "outputs": []
  },
  {
   "metadata": {
    "ExecuteTime": {
     "end_time": "2024-04-19T20:04:35.111339Z",
     "start_time": "2024-04-19T20:04:34.646096Z"
    }
   },
   "cell_type": "code",
   "source": [
    "img = imread(\"/home/massei/Documents/03_Courses/03_My_Courses/2024-jn-omero-pipeline/02_jupyter_notebook/01_data/cell_img.ome.tif\")\n",
    "nuclei = img[0,:,:]\n",
    "cyto = img[1,:,:]\n",
    "\n",
    "fig, axs = plt.subplots(1,3, figsize=(15,15))\n",
    "\n",
    "microshow(img, ax=axs[0], label_text='Original', label_color='white')\n",
    "microshow(nuclei, ax=axs[1], label_text='Nuclei', label_color='white')\n",
    "microshow(cyto, ax=axs[2], label_text='Cytoplasm', label_color='white')"
   ],
   "id": "ef1fb7ad3b774d2d",
   "execution_count": 7,
   "outputs": []
  },
  {
   "metadata": {},
   "cell_type": "markdown",
   "source": "## Denoising",
   "id": "8c9811578b2e3f51"
  },
  {
   "metadata": {
    "jupyter": {
     "is_executing": true
    }
   },
   "cell_type": "code",
   "source": [
    "denoised_gaussian = filters.gaussian(nuclei, sigma=1)\n",
    "microshow(denoised_gaussian)"
   ],
   "id": "50998bbe30902e16",
   "execution_count": null,
   "outputs": []
  },
  {
   "metadata": {},
   "cell_type": "markdown",
   "source": "## Binarization",
   "id": "1da9d1bc920e8e6"
  },
  {
   "metadata": {},
   "cell_type": "markdown",
   "source": "## Labelling",
   "id": "a0a8818bf289c8f7"
  },
  {
   "metadata": {},
   "cell_type": "markdown",
   "source": "## Statistics using Scikit-image",
   "id": "76a9d7acc966f11f"
  },
  {
   "metadata": {},
   "cell_type": "markdown",
   "source": "## Push back to OMERO",
   "id": "e1172ac2118e0c32"
  },
  {
   "metadata": {},
   "cell_type": "markdown",
   "source": "## Looping pipeline!!!",
   "id": "bcd707519205b771"
  }
 ],
 "metadata": {
  "kernelspec": {
   "display_name": "Python 3",
   "language": "python",
   "name": "python3"
  },
  "language_info": {
   "codemirror_mode": {
    "name": "ipython",
    "version": 2
   },
   "file_extension": ".py",
   "mimetype": "text/x-python",
   "name": "python",
   "nbconvert_exporter": "python",
   "pygments_lexer": "ipython2",
   "version": "2.7.6"
  }
 },
 "nbformat": 4,
 "nbformat_minor": 5
}
